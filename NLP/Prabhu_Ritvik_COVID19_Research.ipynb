{
 "cells": [
  {
   "cell_type": "markdown",
   "metadata": {},
   "source": [
    "# Effects of COVID-19 on Mental Health\n",
    "######  Ritvik Prabhu \n",
    "\n",
    "This notebook contains research models that parses popular subreddits on mental health and analyzes the effect of COVID-19 on mental health using sentiment analysis on post headings.\n",
    "\n",
    "---\n",
    "\n"
   ]
  },
  {
   "cell_type": "markdown",
   "metadata": {},
   "source": [
    "First we begin by importing the relevant packages"
   ]
  },
  {
   "cell_type": "code",
   "execution_count": 29,
   "metadata": {},
   "outputs": [],
   "source": [
    "import praw\n",
    "import json\n",
    "import datetime as dt\n",
    "import pandas as pd\n",
    "import matplotlib.pyplot as plt\n",
    "\n",
    "import urllib.request\n",
    "import json \n",
    "import datetime\n",
    "\n",
    "import numpy as np\n",
    "import nltk\n",
    "import seaborn as sns\n",
    "\n",
    "from wordcloud import WordCloud, STOPWORDS\n",
    "from nltk.sentiment.vader import SentimentIntensityAnalyzer as SIA\n",
    "from pprint import pprint\n",
    "from IPython import display\n",
    "\n",
    "import math\n",
    "\n",
    "from psaw import PushshiftAPI"
   ]
  },
  {
   "cell_type": "markdown",
   "metadata": {},
   "source": [
    "For this research, we will be using the reddit API called PRAW and sentiment analysis tool called NLTK."
   ]
  },
  {
   "cell_type": "markdown",
   "metadata": {},
   "source": [
    "We will create a method that imports client code to access the API. The data is imported from my computer for the sake of security."
   ]
  },
  {
   "cell_type": "code",
   "execution_count": 30,
   "metadata": {},
   "outputs": [],
   "source": [
    "def create_reddit_object(json_file = \"reddit_config.json\", json_key = \"reddit_user_values\"):\n",
    "    with open(json_file) as f:\n",
    "        data = json.load(f)\n",
    "    user_values = data[json_key]\n",
    "    reddit = praw.Reddit(client_id = user_values['client_id'],\n",
    "client_secret = user_values['client_secret'],\n",
    "user_agent = user_values['user_agent'],\n",
    "username = user_values['username'],\n",
    "password = user_values['password'],)\n",
    "    return reddit\n"
   ]
  },
  {
   "cell_type": "code",
   "execution_count": 31,
   "metadata": {},
   "outputs": [],
   "source": [
    "reddit = create_reddit_object()"
   ]
  },
  {
   "cell_type": "markdown",
   "metadata": {},
   "source": [
    "The subreddits chosen for the research are:\n",
    "\n",
    "\n",
    "</ol>\n",
    "\n",
    "<li>r/addiction</li>\n",
    "<li>r/anxiety</li>\n",
    "<li>r/depression</li>\n",
    "<li>r/EDAnonymous</li>\n",
    "<li>r/healthanxiety</li>\n",
    "<li>r/lonely</li>\n",
    "<li>r/ptsd</li>\n",
    "<li>r/spcialanxiety</li>\n",
    "<li>r/sucidewatch</li>\n",
    "\n",
    "</ol>"
   ]
  },
  {
   "cell_type": "code",
   "execution_count": 32,
   "metadata": {},
   "outputs": [],
   "source": [
    "addiction_subreddit = reddit.subreddit('addiction')\n",
    "anxiety_subreddit = reddit.subreddit('anxiety')\n",
    "depression_subreddit = reddit.subreddit('depression')\n",
    "EDAnonymous_subreddit = reddit.subreddit('EDAnonymous')\n",
    "healthanxiety_subreddit = reddit.subreddit('healthanxiety')\n",
    "lonely_subreddit = reddit.subreddit('lonely')\n",
    "ptsd_subreddit = reddit.subreddit('ptsd')\n",
    "socialanxiety_subreddit = reddit.subreddit('socialanxiety')\n",
    "suicidewatch_subreddit = reddit.subreddit('suicidewatch')"
   ]
  },
  {
   "cell_type": "markdown",
   "metadata": {},
   "source": [
    "Relevant information is filtered in each of these subreddits. The keywords include:\n",
    "\n",
    "</ol>\n",
    "\n",
    "<li>COVID-19</li>\n",
    "<li>Coronavirus</li>\n",
    "<li>Pandemic</li>\n",
    "<li>Quarantine</li>\n",
    "<li>isolation</li>\n",
    "<li>Social distancing</li>\n",
    "<li>Rona</li>\n",
    "<li>Covid</li>\n",
    "<li>2020</li>\n",
    "<li>SARS-cov-2</li>\n",
    "<li>disease</li>\n",
    "<li>virus</li>\n",
    "<li>sars</li>\n",
    "<li>masks</li>\n",
    "<li>vaccines</li>\n",
    "\n",
    "</ol>\n",
    "\n",
    "The keywords is supposed to cover a variety of genres under the broad canopy of COVID-19 in order to broaden the dataset. (for example, it covers genres of academia by using keywords such as \"SARS-cov-2\" and even social media lingo like \"Rona\"). The data is sorted from newest to oldest and has a time filter 'all'.\n",
    "\n",
    "The reddit search method allows you to search for submissions and subreddits. \n",
    "\n",
    "Limitations:\n",
    "\n",
    "</ol>\n",
    "\n",
    "<li>The search terms may be sstemmed. A search for \"dogs\" may return results with the word \"dog\" in them.</li>\n",
    "<li>Search results are limited to 1000 results. This limitation should change soon since Reddit is planning on allowing data dump through offline systems, as online systems get pretty backed up with traffic.(More information can be found at: <a> http://www.reddit.com/r/ideasfortheadmins/comments/10tai6/ever_wondered_the_data_liberation_policy_of_reddit/c6gicdf?context=3 </a> </li>\n",
    "</ol>\n",
    "\n",
    "\n",
    "Source: https://www.reddit.com/wiki/search\n"
   ]
  },
  {
   "cell_type": "code",
   "execution_count": 33,
   "metadata": {},
   "outputs": [],
   "source": [
    "add_subreddit = addiction_subreddit.search(\"COVID-19 OR Coronavirus OR Pandemic OR Quarantine OR isolation OR Social distancing OR Rona OR Covid OR 2020 OR SARS-cov-2 OR disease OR virus OR sars OR masks OR vaccines\", sort='new', syntax='lucene', time_filter='all', limit = 100000)\n",
    "anx_subreddit = anxiety_subreddit.search(\"COVID-19 OR Coronavirus OR Pandemic OR Quarantine OR isolation OR Social distancing OR Rona OR Covid OR 2020 OR SARS-cov-2 OR disease OR virus OR sars OR masks OR vaccines\", sort='new', syntax='lucene', time_filter='all', limit = 100000)\n",
    "dep_subreddit = depression_subreddit.search(\"COVID-19 OR Coronavirus OR Pandemic OR Quarantine OR isolation OR Social distancing OR Rona OR Covid OR 2020 OR SARS-cov-2 OR disease OR virus OR sars OR masks OR vaccines\", sort='new', syntax='lucene', time_filter='all', limit = 100000)\n",
    "EDA_subreddit = EDAnonymous_subreddit.search(\"COVID-19 OR Coronavirus OR Pandemic OR Quarantine OR isolation OR Social distancing OR Rona OR Covid OR 2020 OR SARS-cov-2 OR disease OR virus OR sars OR masks OR vaccines\", sort='new', syntax='lucene', time_filter='all', limit = 100000)\n",
    "hea_subreddit = healthanxiety_subreddit.search(\"COVID-19 OR Coronavirus OR Pandemic OR Quarantine OR isolation OR Social distancing OR Rona OR Covid OR 2020 OR SARS-cov-2 OR disease OR virus OR sars OR masks OR vaccines\", sort='new', syntax='lucene', time_filter='all', limit = 100000)\n",
    "lon_subreddit = lonely_subreddit.search(\"COVID-19 OR Coronavirus OR Pandemic OR Quarantine OR isolation OR Social distancing OR Rona OR Covid OR 2020 OR SARS-cov-2 OR disease OR virus OR sars OR masks OR vaccines\", sort='new', syntax='lucene', time_filter='all', limit = 100000)\n",
    "ptsd_subreddit = ptsd_subreddit.search(\"COVID-19 OR Coronavirus OR Pandemic OR Quarantine OR isolation OR Social distancing OR Rona OR Covid OR 2020 OR SARS-cov-2 OR disease OR virus OR sars OR masks OR vaccines\", sort='new', syntax='lucene', time_filter='all', limit = 100000)\n",
    "soc_subreddit = socialanxiety_subreddit.search(\"COVID-19 OR Coronavirus OR Pandemic OR Quarantine OR isolation OR Social distancing OR Rona OR Covid OR 2020 OR SARS-cov-2 OR disease OR virus OR sars OR masks OR vaccines\", sort='new', syntax='lucene', time_filter='all', limit = 100000)\n",
    "sui_subreddit = suicidewatch_subreddit.search(\"COVID-19 OR Coronavirus OR Pandemic OR Quarantine OR isolation OR Social distancing OR Rona OR Covid OR 2020 OR SARS-cov-2 OR disease OR virus OR sars OR masks OR vaccines\", sort='new', syntax='lucene', time_filter='all', limit = 100000)\n"
   ]
  },
  {
   "cell_type": "markdown",
   "metadata": {},
   "source": [
    "The following 7 blocks of code creates a dataset of the data parsed"
   ]
  },
  {
   "cell_type": "code",
   "execution_count": 34,
   "metadata": {},
   "outputs": [],
   "source": [
    "topics_dict_add = { \"title\":[], \n",
    "                \"score\":[], \n",
    "                \"id\":[], \"url\":[], \n",
    "                \"comms_num\": [], \n",
    "                \"created\": [], \n",
    "                \"body\":[]}\n",
    "\n",
    "topics_dict_anx = { \"title\":[], \n",
    "                \"score\":[], \n",
    "                \"id\":[], \"url\":[], \n",
    "                \"comms_num\": [], \n",
    "                \"created\": [], \n",
    "                \"body\":[]}\n",
    "\n",
    "topics_dict_dep = { \"title\":[], \n",
    "                \"score\":[], \n",
    "                \"id\":[], \"url\":[], \n",
    "                \"comms_num\": [], \n",
    "                \"created\": [], \n",
    "                \"body\":[]}\n",
    "\n",
    "topics_dict_EDA = { \"title\":[], \n",
    "                \"score\":[], \n",
    "                \"id\":[], \"url\":[], \n",
    "                \"comms_num\": [], \n",
    "                \"created\": [], \n",
    "                \"body\":[]}\n",
    "\n",
    "topics_dict_hea = { \"title\":[], \n",
    "                \"score\":[], \n",
    "                \"id\":[], \"url\":[], \n",
    "                \"comms_num\": [], \n",
    "                \"created\": [], \n",
    "                \"body\":[]}\n",
    "\n",
    "topics_dict_lon = { \"title\":[], \n",
    "                \"score\":[], \n",
    "                \"id\":[], \"url\":[], \n",
    "                \"comms_num\": [], \n",
    "                \"created\": [], \n",
    "                \"body\":[]}\n",
    "\n",
    "topics_dict_PTSD = { \"title\":[], \n",
    "                \"score\":[], \n",
    "                \"id\":[], \"url\":[], \n",
    "                \"comms_num\": [], \n",
    "                \"created\": [], \n",
    "                \"body\":[]}\n",
    "\n",
    "topics_dict_soc = { \"title\":[], \n",
    "                \"score\":[], \n",
    "                \"id\":[], \"url\":[], \n",
    "                \"comms_num\": [], \n",
    "                \"created\": [], \n",
    "                \"body\":[]}\n",
    "\n",
    "topics_dict_sui = { \"title\":[], \n",
    "                \"score\":[], \n",
    "                \"id\":[], \"url\":[], \n",
    "                \"comms_num\": [], \n",
    "                \"created\": [], \n",
    "                \"body\":[]}\n"
   ]
  },
  {
   "cell_type": "code",
   "execution_count": 35,
   "metadata": {},
   "outputs": [],
   "source": [
    "for submission in add_subreddit:\n",
    "    topics_dict_add[\"title\"].append(submission.title)\n",
    "    topics_dict_add[\"score\"].append(submission.score)\n",
    "    topics_dict_add[\"id\"].append(submission.id)\n",
    "    topics_dict_add[\"url\"].append(submission.url)\n",
    "    topics_dict_add[\"comms_num\"].append(submission.num_comments)\n",
    "    topics_dict_add[\"created\"].append(submission.created)\n",
    "    topics_dict_add[\"body\"].append(submission.selftext)\n",
    "    \n",
    "for submission in anx_subreddit:\n",
    "    topics_dict_anx[\"title\"].append(submission.title)\n",
    "    topics_dict_anx[\"score\"].append(submission.score)\n",
    "    topics_dict_anx[\"id\"].append(submission.id)\n",
    "    topics_dict_anx[\"url\"].append(submission.url)\n",
    "    topics_dict_anx[\"comms_num\"].append(submission.num_comments)\n",
    "    topics_dict_anx[\"created\"].append(submission.created)\n",
    "    topics_dict_anx[\"body\"].append(submission.selftext)\n",
    "    \n",
    "for submission in dep_subreddit:\n",
    "    topics_dict_dep[\"title\"].append(submission.title)\n",
    "    topics_dict_dep[\"score\"].append(submission.score)\n",
    "    topics_dict_dep[\"id\"].append(submission.id)\n",
    "    topics_dict_dep[\"url\"].append(submission.url)\n",
    "    topics_dict_dep[\"comms_num\"].append(submission.num_comments)\n",
    "    topics_dict_dep[\"created\"].append(submission.created)\n",
    "    topics_dict_dep[\"body\"].append(submission.selftext)\n",
    "    \n",
    "for submission in EDA_subreddit:\n",
    "    topics_dict_EDA[\"title\"].append(submission.title)\n",
    "    topics_dict_EDA[\"score\"].append(submission.score)\n",
    "    topics_dict_EDA[\"id\"].append(submission.id)\n",
    "    topics_dict_EDA[\"url\"].append(submission.url)\n",
    "    topics_dict_EDA[\"comms_num\"].append(submission.num_comments)\n",
    "    topics_dict_EDA[\"created\"].append(submission.created)\n",
    "    topics_dict_EDA[\"body\"].append(submission.selftext)\n",
    "    \n",
    "for submission in hea_subreddit:\n",
    "    topics_dict_hea[\"title\"].append(submission.title)\n",
    "    topics_dict_hea[\"score\"].append(submission.score)\n",
    "    topics_dict_hea[\"id\"].append(submission.id)\n",
    "    topics_dict_hea[\"url\"].append(submission.url)\n",
    "    topics_dict_hea[\"comms_num\"].append(submission.num_comments)\n",
    "    topics_dict_hea[\"created\"].append(submission.created)\n",
    "    topics_dict_hea[\"body\"].append(submission.selftext)\n",
    "    \n",
    "for submission in lon_subreddit:\n",
    "    topics_dict_lon[\"title\"].append(submission.title)\n",
    "    topics_dict_lon[\"score\"].append(submission.score)\n",
    "    topics_dict_lon[\"id\"].append(submission.id)\n",
    "    topics_dict_lon[\"url\"].append(submission.url)\n",
    "    topics_dict_lon[\"comms_num\"].append(submission.num_comments)\n",
    "    topics_dict_lon[\"created\"].append(submission.created)\n",
    "    topics_dict_lon[\"body\"].append(submission.selftext)\n",
    "    \n",
    "for submission in ptsd_subreddit:\n",
    "    topics_dict_PTSD[\"title\"].append(submission.title)\n",
    "    topics_dict_PTSD[\"score\"].append(submission.score)\n",
    "    topics_dict_PTSD[\"id\"].append(submission.id)\n",
    "    topics_dict_PTSD[\"url\"].append(submission.url)\n",
    "    topics_dict_PTSD[\"comms_num\"].append(submission.num_comments)\n",
    "    topics_dict_PTSD[\"created\"].append(submission.created)\n",
    "    topics_dict_PTSD[\"body\"].append(submission.selftext)\n",
    "    \n",
    "for submission in soc_subreddit:\n",
    "    topics_dict_soc[\"title\"].append(submission.title)\n",
    "    topics_dict_soc[\"score\"].append(submission.score)\n",
    "    topics_dict_soc[\"id\"].append(submission.id)\n",
    "    topics_dict_soc[\"url\"].append(submission.url)\n",
    "    topics_dict_soc[\"comms_num\"].append(submission.num_comments)\n",
    "    topics_dict_soc[\"created\"].append(submission.created)\n",
    "    topics_dict_soc[\"body\"].append(submission.selftext)\n",
    "    \n",
    "for submission in sui_subreddit:\n",
    "    topics_dict_sui[\"title\"].append(submission.title)\n",
    "    topics_dict_sui[\"score\"].append(submission.score)\n",
    "    topics_dict_sui[\"id\"].append(submission.id)\n",
    "    topics_dict_sui[\"url\"].append(submission.url)\n",
    "    topics_dict_sui[\"comms_num\"].append(submission.num_comments)\n",
    "    topics_dict_sui[\"created\"].append(submission.created)\n",
    "    topics_dict_sui[\"body\"].append(submission.selftext)"
   ]
  },
  {
   "cell_type": "code",
   "execution_count": 36,
   "metadata": {},
   "outputs": [],
   "source": [
    "topics_data_add = pd.DataFrame(topics_dict_add)\n",
    "topics_data_anx = pd.DataFrame(topics_dict_anx)\n",
    "topics_data_dep = pd.DataFrame(topics_dict_dep)\n",
    "topics_data_EDA = pd.DataFrame(topics_dict_EDA)\n",
    "topics_data_hea = pd.DataFrame(topics_dict_hea)\n",
    "topics_data_lon = pd.DataFrame(topics_dict_lon)\n",
    "topics_data_PTSD = pd.DataFrame(topics_dict_PTSD)\n",
    "topics_data_soc = pd.DataFrame(topics_dict_soc)\n",
    "topics_data_sui = pd.DataFrame(topics_dict_sui)"
   ]
  },
  {
   "cell_type": "code",
   "execution_count": 37,
   "metadata": {},
   "outputs": [],
   "source": [
    "def get_month(created):\n",
    "    return dt.datetime.fromtimestamp(created).month"
   ]
  },
  {
   "cell_type": "code",
   "execution_count": 38,
   "metadata": {},
   "outputs": [],
   "source": [
    "timestamp_add = topics_data_add[\"created\"].apply(get_month)\n",
    "timestamp_anx = topics_data_anx[\"created\"].apply(get_month)\n",
    "timestamp_dep = topics_data_dep[\"created\"].apply(get_month)\n",
    "timestamp_EDA = topics_data_EDA[\"created\"].apply(get_month)\n",
    "timestamp_hea = topics_data_hea[\"created\"].apply(get_month)\n",
    "timestamp_lon = topics_data_lon[\"created\"].apply(get_month)\n",
    "timestamp_PTSD = topics_data_PTSD[\"created\"].apply(get_month)\n",
    "timestamp_soc = topics_data_soc[\"created\"].apply(get_month)\n",
    "timestamp_sui = topics_data_sui[\"created\"].apply(get_month)"
   ]
  },
  {
   "cell_type": "code",
   "execution_count": 39,
   "metadata": {},
   "outputs": [],
   "source": [
    "topics_data_add = topics_data_add.assign(timestamp = timestamp_add)\n",
    "topics_data_anx = topics_data_anx.assign(timestamp = timestamp_anx)\n",
    "topics_data_dep = topics_data_dep.assign(timestamp = timestamp_dep)\n",
    "topics_data_EDA = topics_data_EDA.assign(timestamp = timestamp_EDA)\n",
    "topics_data_hea = topics_data_hea.assign(timestamp = timestamp_hea)\n",
    "topics_data_lon = topics_data_lon.assign(timestamp = timestamp_lon)\n",
    "topics_data_PTSD = topics_data_PTSD.assign(timestamp = timestamp_PTSD)\n",
    "topics_data_soc = topics_data_soc.assign(timestamp = timestamp_soc)\n",
    "topics_data_sui = topics_data_sui.assign(timestamp = timestamp_sui)"
   ]
  },
  {
   "cell_type": "markdown",
   "metadata": {},
   "source": [
    "Example of the data collected from **r/anxiety**"
   ]
  },
  {
   "cell_type": "code",
   "execution_count": 40,
   "metadata": {},
   "outputs": [
    {
     "data": {
      "text/html": [
       "<div>\n",
       "<style scoped>\n",
       "    .dataframe tbody tr th:only-of-type {\n",
       "        vertical-align: middle;\n",
       "    }\n",
       "\n",
       "    .dataframe tbody tr th {\n",
       "        vertical-align: top;\n",
       "    }\n",
       "\n",
       "    .dataframe thead th {\n",
       "        text-align: right;\n",
       "    }\n",
       "</style>\n",
       "<table border=\"1\" class=\"dataframe\">\n",
       "  <thead>\n",
       "    <tr style=\"text-align: right;\">\n",
       "      <th></th>\n",
       "      <th>title</th>\n",
       "      <th>score</th>\n",
       "      <th>id</th>\n",
       "      <th>url</th>\n",
       "      <th>comms_num</th>\n",
       "      <th>created</th>\n",
       "      <th>body</th>\n",
       "      <th>timestamp</th>\n",
       "    </tr>\n",
       "  </thead>\n",
       "  <tbody>\n",
       "    <tr>\n",
       "      <th>0</th>\n",
       "      <td>Another week of anxiety ahead... how to keep c...</td>\n",
       "      <td>1</td>\n",
       "      <td>k9ux40</td>\n",
       "      <td>https://www.reddit.com/r/Anxiety/comments/k9ux...</td>\n",
       "      <td>0</td>\n",
       "      <td>1.607560e+09</td>\n",
       "      <td>So I’m a 26 year old male. On 4th November, a ...</td>\n",
       "      <td>12</td>\n",
       "    </tr>\n",
       "    <tr>\n",
       "      <th>1</th>\n",
       "      <td>Social Anxiety</td>\n",
       "      <td>1</td>\n",
       "      <td>k9undj</td>\n",
       "      <td>https://www.reddit.com/r/Anxiety/comments/k9un...</td>\n",
       "      <td>0</td>\n",
       "      <td>1.607559e+09</td>\n",
       "      <td>So I used to have really bad social anxiety bu...</td>\n",
       "      <td>12</td>\n",
       "    </tr>\n",
       "    <tr>\n",
       "      <th>2</th>\n",
       "      <td>Just Called Out of Work - I’m Not Sure What to...</td>\n",
       "      <td>1</td>\n",
       "      <td>k9u9vl</td>\n",
       "      <td>https://www.reddit.com/r/Anxiety/comments/k9u9...</td>\n",
       "      <td>5</td>\n",
       "      <td>1.607558e+09</td>\n",
       "      <td>Last Friday night while watching TV with my fi...</td>\n",
       "      <td>12</td>\n",
       "    </tr>\n",
       "    <tr>\n",
       "      <th>3</th>\n",
       "      <td>Anxiety is driving me crazy!!!</td>\n",
       "      <td>1</td>\n",
       "      <td>k9tojr</td>\n",
       "      <td>https://www.reddit.com/r/Anxiety/comments/k9to...</td>\n",
       "      <td>0</td>\n",
       "      <td>1.607556e+09</td>\n",
       "      <td>So I’ve always had OCD and anxiety issues sinc...</td>\n",
       "      <td>12</td>\n",
       "    </tr>\n",
       "    <tr>\n",
       "      <th>4</th>\n",
       "      <td>Jaw tension in social settings?</td>\n",
       "      <td>1</td>\n",
       "      <td>k9sv7r</td>\n",
       "      <td>https://www.reddit.com/r/Anxiety/comments/k9sv...</td>\n",
       "      <td>1</td>\n",
       "      <td>1.607553e+09</td>\n",
       "      <td>I’m not sure why, but recently whenever I am i...</td>\n",
       "      <td>12</td>\n",
       "    </tr>\n",
       "  </tbody>\n",
       "</table>\n",
       "</div>"
      ],
      "text/plain": [
       "                                               title  score      id  \\\n",
       "0  Another week of anxiety ahead... how to keep c...      1  k9ux40   \n",
       "1                                     Social Anxiety      1  k9undj   \n",
       "2  Just Called Out of Work - I’m Not Sure What to...      1  k9u9vl   \n",
       "3                     Anxiety is driving me crazy!!!      1  k9tojr   \n",
       "4                    Jaw tension in social settings?      1  k9sv7r   \n",
       "\n",
       "                                                 url  comms_num       created  \\\n",
       "0  https://www.reddit.com/r/Anxiety/comments/k9ux...          0  1.607560e+09   \n",
       "1  https://www.reddit.com/r/Anxiety/comments/k9un...          0  1.607559e+09   \n",
       "2  https://www.reddit.com/r/Anxiety/comments/k9u9...          5  1.607558e+09   \n",
       "3  https://www.reddit.com/r/Anxiety/comments/k9to...          0  1.607556e+09   \n",
       "4  https://www.reddit.com/r/Anxiety/comments/k9sv...          1  1.607553e+09   \n",
       "\n",
       "                                                body  timestamp  \n",
       "0  So I’m a 26 year old male. On 4th November, a ...         12  \n",
       "1  So I used to have really bad social anxiety bu...         12  \n",
       "2  Last Friday night while watching TV with my fi...         12  \n",
       "3  So I’ve always had OCD and anxiety issues sinc...         12  \n",
       "4  I’m not sure why, but recently whenever I am i...         12  "
      ]
     },
     "execution_count": 40,
     "metadata": {},
     "output_type": "execute_result"
    }
   ],
   "source": [
    "topics_data_anx.head()"
   ]
  },
  {
   "cell_type": "markdown",
   "metadata": {},
   "source": [
    "The following 4 blocks of code calculate the total number of posts from all the aforementioned subreddits. Since there are not a lot of data that I have access to, the data depicted is limited and does not depict the true nature of the research"
   ]
  },
  {
   "cell_type": "code",
   "execution_count": 41,
   "metadata": {},
   "outputs": [],
   "source": [
    "def month_total(df):\n",
    "    dict = {}\n",
    "    for i in df['timestamp']:\n",
    "        dict[i] = (df['timestamp'] == i).sum()\n",
    "    month_list = dict.keys() \n",
    "    value_list = dict.values()\n",
    "    return [list(month_list), list(value_list)]"
   ]
  },
  {
   "cell_type": "code",
   "execution_count": 42,
   "metadata": {},
   "outputs": [],
   "source": [
    "dict = {'Sep':0, 'Oct':0, 'Nov':0}\n",
    "sub = [topics_data_add, topics_data_anx, topics_data_dep, topics_data_EDA, topics_data_hea, topics_data_lon, topics_data_PTSD, topics_data_soc, topics_data_sui]"
   ]
  },
  {
   "cell_type": "code",
   "execution_count": 43,
   "metadata": {},
   "outputs": [],
   "source": [
    "for i in sub:\n",
    "    for j in range(len(month_total(i)[0])):\n",
    "        if month_total(i)[0][j] == 11:\n",
    "            dict['Nov']+= month_total(i)[1][j]\n",
    "        elif month_total(i)[0][j] == 10:\n",
    "            dict['Oct']+= month_total(i)[1][j]\n",
    "        elif month_total(i)[0][j] == 9:\n",
    "            dict['Sep']+=  month_total(i)[1][j]"
   ]
  },
  {
   "cell_type": "code",
   "execution_count": 44,
   "metadata": {},
   "outputs": [
    {
     "data": {
      "image/png": "[encoded data removed]",
      "text/plain": [
       "<Figure size 720x360 with 1 Axes>"
      ]
     },
     "metadata": {},
     "output_type": "display_data"
    }
   ],
   "source": [
    "fig, ax = plt.subplots(figsize = (10,5))\n",
    "plt.bar(dict.keys(), dict.values(), color='orangered')\n",
    "\n",
    "ax.set_ylabel('Number of posts that contain \"Covid\" related keywords')\n",
    "ax.set_xlabel('Month')\n",
    "ax.set_title('Subreddit trend')\n",
    "plt.show()"
   ]
  },
  {
   "cell_type": "markdown",
   "metadata": {},
   "source": [
    "Since the results from parsing through specific subreddits led to inconclusive results, we are going to parse through the most popular subreddit for the Coronavirus - \"COVID19\" - in order to assess the positive, negative and neutral sentiments of the subreddit."
   ]
  },
  {
   "cell_type": "markdown",
   "metadata": {},
   "source": [
    "Vader lexicon and stop words are downloaded from NLTK. Vader lexicon is a sentiment analysis tool that specifically attuned to sentiments expressed in social media. (https://www.kaggle.com/nltkdata/vader-lexicon)"
   ]
  },
  {
   "cell_type": "code",
   "execution_count": 45,
   "metadata": {},
   "outputs": [
    {
     "name": "stderr",
     "output_type": "stream",
     "text": [
      "[nltk_data] Downloading package vader_lexicon to\n",
      "[nltk_data]     C:\\Users\\ritvi\\AppData\\Roaming\\nltk_data...\n",
      "[nltk_data]   Package vader_lexicon is already up-to-date!\n",
      "[nltk_data] Downloading package stopwords to\n",
      "[nltk_data]     C:\\Users\\ritvi\\AppData\\Roaming\\nltk_data...\n",
      "[nltk_data]   Package stopwords is already up-to-date!\n"
     ]
    },
    {
     "data": {
      "text/plain": [
       "True"
      ]
     },
     "execution_count": 45,
     "metadata": {},
     "output_type": "execute_result"
    }
   ],
   "source": [
    "nltk.download('vader_lexicon')\n",
    "nltk.download('stopwords')"
   ]
  },
  {
   "cell_type": "code",
   "execution_count": 46,
   "metadata": {},
   "outputs": [],
   "source": [
    "sns.set(style='darkgrid', context='talk', palette='Dark2')"
   ]
  },
  {
   "cell_type": "markdown",
   "metadata": {},
   "source": [
    "The data from COVID19 is pulled and this data is iterated through to obtain the headlines of each post pulled."
   ]
  },
  {
   "cell_type": "code",
   "execution_count": 47,
   "metadata": {},
   "outputs": [],
   "source": [
    "headlines = {}\n",
    "for sub in reddit.subreddit('COVID19').new(limit=None):\n",
    "    headlines[sub.title] = sub.created"
   ]
  },
  {
   "cell_type": "markdown",
   "metadata": {},
   "source": [
    "Using sentiment analyzer we will label the data as positive, negative and neutral. We iterate through the lines and use the polarity_scores method to get the sentiment score. This data is ultimately added to a data frame."
   ]
  },
  {
   "cell_type": "code",
   "execution_count": 48,
   "metadata": {},
   "outputs": [
    {
     "data": {
      "text/html": [
       "<div>\n",
       "<style scoped>\n",
       "    .dataframe tbody tr th:only-of-type {\n",
       "        vertical-align: middle;\n",
       "    }\n",
       "\n",
       "    .dataframe tbody tr th {\n",
       "        vertical-align: top;\n",
       "    }\n",
       "\n",
       "    .dataframe thead th {\n",
       "        text-align: right;\n",
       "    }\n",
       "</style>\n",
       "<table border=\"1\" class=\"dataframe\">\n",
       "  <thead>\n",
       "    <tr style=\"text-align: right;\">\n",
       "      <th></th>\n",
       "      <th>neg</th>\n",
       "      <th>neu</th>\n",
       "      <th>pos</th>\n",
       "      <th>compound</th>\n",
       "      <th>headline</th>\n",
       "      <th>created</th>\n",
       "    </tr>\n",
       "  </thead>\n",
       "  <tbody>\n",
       "    <tr>\n",
       "      <th>0</th>\n",
       "      <td>0.0</td>\n",
       "      <td>1.0</td>\n",
       "      <td>0.0</td>\n",
       "      <td>0.0</td>\n",
       "      <td>The FDA Weighs Its First Coronavirus Vaccine</td>\n",
       "      <td>1.607559e+09</td>\n",
       "    </tr>\n",
       "    <tr>\n",
       "      <th>1</th>\n",
       "      <td>0.0</td>\n",
       "      <td>1.0</td>\n",
       "      <td>0.0</td>\n",
       "      <td>0.0</td>\n",
       "      <td>Regulatory Decision Summary - Pfizer-BioNTech ...</td>\n",
       "      <td>1.607559e+09</td>\n",
       "    </tr>\n",
       "    <tr>\n",
       "      <th>2</th>\n",
       "      <td>0.0</td>\n",
       "      <td>1.0</td>\n",
       "      <td>0.0</td>\n",
       "      <td>0.0</td>\n",
       "      <td>Anti-SARS-CoV-2 activity of Andrographis panic...</td>\n",
       "      <td>1.607555e+09</td>\n",
       "    </tr>\n",
       "    <tr>\n",
       "      <th>3</th>\n",
       "      <td>0.0</td>\n",
       "      <td>1.0</td>\n",
       "      <td>0.0</td>\n",
       "      <td>0.0</td>\n",
       "      <td>Extended in vitro inactivation of SARS-CoV-2 b...</td>\n",
       "      <td>1.607555e+09</td>\n",
       "    </tr>\n",
       "    <tr>\n",
       "      <th>4</th>\n",
       "      <td>0.0</td>\n",
       "      <td>1.0</td>\n",
       "      <td>0.0</td>\n",
       "      <td>0.0</td>\n",
       "      <td>Binding of SARS-CoV-2 spike protein to ACE2 is...</td>\n",
       "      <td>1.607555e+09</td>\n",
       "    </tr>\n",
       "  </tbody>\n",
       "</table>\n",
       "</div>"
      ],
      "text/plain": [
       "   neg  neu  pos  compound                                           headline  \\\n",
       "0  0.0  1.0  0.0       0.0       The FDA Weighs Its First Coronavirus Vaccine   \n",
       "1  0.0  1.0  0.0       0.0  Regulatory Decision Summary - Pfizer-BioNTech ...   \n",
       "2  0.0  1.0  0.0       0.0  Anti-SARS-CoV-2 activity of Andrographis panic...   \n",
       "3  0.0  1.0  0.0       0.0  Extended in vitro inactivation of SARS-CoV-2 b...   \n",
       "4  0.0  1.0  0.0       0.0  Binding of SARS-CoV-2 spike protein to ACE2 is...   \n",
       "\n",
       "        created  \n",
       "0  1.607559e+09  \n",
       "1  1.607559e+09  \n",
       "2  1.607555e+09  \n",
       "3  1.607555e+09  \n",
       "4  1.607555e+09  "
      ]
     },
     "execution_count": 48,
     "metadata": {},
     "output_type": "execute_result"
    }
   ],
   "source": [
    "sia = SIA()\n",
    "results = []\n",
    "for line in list(headlines.keys()):\n",
    "    scores = sia.polarity_scores(line)\n",
    "    scores['headline'] = line\n",
    "    scores['created'] = headlines[line]    \n",
    "    results.append(scores)\n",
    "df = pd.DataFrame.from_records(results)\n",
    "df.head()"
   ]
  },
  {
   "cell_type": "markdown",
   "metadata": {},
   "source": [
    "We label the data with compound value greater than 0.1 as positive and less than -0.1 as negative. This value was attained after some level of trial and error."
   ]
  },
  {
   "cell_type": "code",
   "execution_count": 49,
   "metadata": {},
   "outputs": [],
   "source": [
    "df['label'] = 0\n",
    "df.loc[df['compound']>0.1, 'label'] = 1\n",
    "df.loc[df['compound']<-0.1, 'label'] = -1"
   ]
  },
  {
   "cell_type": "markdown",
   "metadata": {},
   "source": [
    "Here is a list of examples of positive, negative and neutral headlines. As you can see, it does not do very well. In certain cases, it would even consider testing **positive** for the virus as a good thing, when in reality it is not. This is another limitation that we have run into."
   ]
  },
  {
   "cell_type": "code",
   "execution_count": 50,
   "metadata": {},
   "outputs": [
    {
     "name": "stdout",
     "output_type": "stream",
     "text": [
      "positive headlines: \n",
      "\n",
      "['Significant inactivation of SARS-CoV-2 by a green tea catechin, a catechin-derivative and '\n",
      " 'galloylated theaflavins in vitro',\n",
      " 'Safety and efficacy of the ChAdOx1 nCoV-19 vaccine (AZD1222) against SARS-CoV-2: an interim '\n",
      " 'analysis of four randomised controlled trials in Brazil, South Africa, and the UK',\n",
      " 'Evaluation of SARS-CoV-2 neutralization assays for antibody monitoring in natural infection and '\n",
      " 'vaccine trials',\n",
      " 'The UK RECOVERY trial: An ambitious test of COVID-19 treatments',\n",
      " 'Metabolic reprogramming and epigenetic changes of vital organs in SARS-CoV-2 induced systemic '\n",
      " 'toxicity']\n",
      "\n",
      " neagtive headlines: \n",
      "\n",
      "['Healthcare workers 7 times as likely to have severe COVID-19 as other workers',\n",
      " 'Occupation and risk of severe COVID-19: prospective cohort study of 120 075 UK Biobank '\n",
      " 'participants',\n",
      " 'Schools Closures during the COVID-19 Pandemic: A Catastrophic Global Situation',\n",
      " 'Three-quarters attack rate of SARS-CoV-2 in the Brazilian Amazon during a largely unmitigated '\n",
      " 'epidemic',\n",
      " 'Hydroxychloroquine as Postexposure Prophylaxis to Prevent Severe Acute Respiratory Syndrome '\n",
      " 'Coronavirus 2 Infection: A Randomized Trial: Annals of Internal Medicine: Vol 0, No 0']\n",
      "\n",
      " neutral headlines: \n",
      "\n",
      "['The FDA Weighs Its First Coronavirus Vaccine',\n",
      " 'Regulatory Decision Summary - Pfizer-BioNTech COVID-19 Vaccine - Health Canada',\n",
      " 'Anti-SARS-CoV-2 activity of Andrographis paniculata extract and its major component '\n",
      " 'Andrographolide in human lung epithelial cells and cytotoxicity evaluation in major organ cell '\n",
      " 'representatives',\n",
      " 'Extended in vitro inactivation of SARS-CoV-2 by titanium dioxide surface coating',\n",
      " 'Binding of SARS-CoV-2 spike protein to ACE2 is disabled by thiol-based drugs; evidence from in '\n",
      " 'vitro SARS-CoV-2 infection studies.']\n"
     ]
    }
   ],
   "source": [
    "print(\"positive headlines: \\n\")\n",
    "pprint(list(df[df['label'] == 1].headline)[:5],width = 100)\n",
    "\n",
    "print(\"\\n neagtive headlines: \\n\")\n",
    "pprint(list(df[df['label'] == -1].headline)[:5],width = 100)\n",
    "\n",
    "print(\"\\n neutral headlines: \\n\")\n",
    "pprint(list(df[df['label'] == 0].headline)[:5],width = 100)"
   ]
  },
  {
   "cell_type": "markdown",
   "metadata": {},
   "source": [
    "We now do some statistical testing. The first set of numbers below show the number of posts that the sentiment analyzer deems positive, negative and neutral. The second set of outputs is the percentage of positive, negative and neutral posts."
   ]
  },
  {
   "cell_type": "code",
   "execution_count": 51,
   "metadata": {},
   "outputs": [
    {
     "name": "stdout",
     "output_type": "stream",
     "text": [
      " 0    478\n",
      "-1    195\n",
      " 1    191\n",
      "Name: label, dtype: int64\n",
      " 0    55.324074\n",
      "-1    22.569444\n",
      " 1    22.106481\n",
      "Name: label, dtype: float64\n"
     ]
    }
   ],
   "source": [
    "print(df.label.value_counts())\n",
    "print(df.label.value_counts(normalize = True)*100)"
   ]
  },
  {
   "cell_type": "markdown",
   "metadata": {},
   "source": [
    "The below graph is a graphical representation of the percentage values of the positive, negative and neutral posts"
   ]
  },
  {
   "cell_type": "code",
   "execution_count": 52,
   "metadata": {},
   "outputs": [
    {
     "data": {
      "image/png": "[encoded data removed]",
      "text/plain": [
       "<Figure size 576x576 with 1 Axes>"
      ]
     },
     "metadata": {},
     "output_type": "display_data"
    }
   ],
   "source": [
    "fig, ax = plt.subplots(figsize = (8,8))\n",
    "counts = df.label.value_counts(normalize=True)*100\n",
    "labels = (['negative', 'neutral' ,'positive'])\n",
    "sns.barplot(x=counts.index, y= counts, ax=ax)\n",
    "ax.set_xticklabels(labels)\n",
    "plt.title(\"Sentiment Division\", fontsize=14)\n",
    "plt.show()"
   ]
  },
  {
   "cell_type": "markdown",
   "metadata": {},
   "source": [
    "As you can see, the results here are not only biased but also non-conclusive.\n",
    "\n",
    "\n",
    "## Conclusion\n",
    "\n",
    "In conclusion, because of the bias in data, lack of access to data and the limitations of the NLP tool performing a sentiment analysis on medical terminology, the results of this research is inconclusive.\n",
    "\n",
    "<hr>"
   ]
  },
  {
   "cell_type": "markdown",
   "metadata": {},
   "source": [
    "### Additional Information\n",
    "\n",
    "We are going to analyze the most common words in COVID19"
   ]
  },
  {
   "cell_type": "markdown",
   "metadata": {},
   "source": [
    "We import the necessary packages. We keep in mind that our data needs to be free from any stop words and punctuation, hence we normalize our data."
   ]
  },
  {
   "cell_type": "code",
   "execution_count": 53,
   "metadata": {},
   "outputs": [],
   "source": [
    "from nltk.tokenize import word_tokenize, RegexpTokenizer\n",
    "from nltk.corpus import stopwords\n",
    "tokenizer = RegexpTokenizer(r'\\w+')"
   ]
  },
  {
   "cell_type": "code",
   "execution_count": 54,
   "metadata": {},
   "outputs": [],
   "source": [
    "stop_words = stopwords.words('english')\n",
    "def process_text(headlines):\n",
    "    tokens = []\n",
    "    for line in headlines:\n",
    "        toks = tokenizer.tokenize(line)\n",
    "        toks = [t.lower() for t in toks if t.lower() not in stop_words]\n",
    "        for i in toks:\n",
    "            tokens.append(i)\n",
    "    return tokens"
   ]
  },
  {
   "cell_type": "markdown",
   "metadata": {},
   "source": [
    "The data below shows the most common words from all of the posts."
   ]
  },
  {
   "cell_type": "code",
   "execution_count": 55,
   "metadata": {},
   "outputs": [
    {
     "data": {
      "text/plain": [
       "[('covid', 262),\n",
       " ('19', 252),\n",
       " ('2', 200),\n",
       " ('sars', 198),\n",
       " ('cov', 192),\n",
       " ('patients', 57),\n",
       " ('infection', 48),\n",
       " ('study', 40),\n",
       " ('vaccine', 39),\n",
       " ('coronavirus', 33)]"
      ]
     },
     "execution_count": 55,
     "metadata": {},
     "output_type": "execute_result"
    }
   ],
   "source": [
    "pos_lines = list(df[df.label == 0].headline)\n",
    "pos_tokens = process_text(pos_lines)\n",
    "pos_freq = nltk.FreqDist(pos_tokens)\n",
    "pos_freq.most_common(10)"
   ]
  },
  {
   "cell_type": "markdown",
   "metadata": {},
   "source": [
    "As we can see, this data indicates that the sentiment should be a bit more neutral. This is reflected by the sentiment analyzer. While the sentiment analyzer is slightly accurate, there are clear examples shown above that prove otherwise.\n",
    "\n",
    "---"
   ]
  }
 ],
 "metadata": {
  "kernelspec": {
   "display_name": "Python 3",
   "language": "python",
   "name": "python3"
  },
  "language_info": {
   "codemirror_mode": {
    "name": "ipython",
    "version": 3
   },
   "file_extension": ".py",
   "mimetype": "text/x-python",
   "name": "python",
   "nbconvert_exporter": "python",
   "pygments_lexer": "ipython3",
   "version": "3.7.6"
  }
 },
 "nbformat": 4,
 "nbformat_minor": 4
}
